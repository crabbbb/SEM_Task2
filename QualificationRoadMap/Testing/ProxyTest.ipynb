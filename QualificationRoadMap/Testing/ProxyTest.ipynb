{
 "cells": [
  {
   "cell_type": "code",
   "execution_count": 1,
   "id": "8ecd8891-036b-44ce-a4ab-825472962bbc",
   "metadata": {},
   "outputs": [],
   "source": [
    "import sys\n",
    "\n",
    "# change module search path to parent directory \n",
    "sys.path.append('./../')\n",
    "\n",
    "from proxy import Proxy"
   ]
  },
  {
   "cell_type": "code",
   "execution_count": 2,
   "id": "593da2c2-f477-46d7-8d18-d383a1a4d4bc",
   "metadata": {},
   "outputs": [],
   "source": [
    "filePath = '../JsonLibrary/proxy.json'\n",
    "\n",
    "filePathWrong = 'fake'\n",
    "\n",
    "country1 = \"Malaysia\"\n",
    "\n",
    "country2 = \"fake\""
   ]
  },
  {
   "cell_type": "code",
   "execution_count": 5,
   "id": "5bee9585-9aa6-43d9-a83a-edaa611fe8f6",
   "metadata": {},
   "outputs": [
    {
     "name": "stdout",
     "output_type": "stream",
     "text": [
      "[{'IP': '47.250.155.254', 'Port': '8443'}, {'IP': '47.250.51.110', 'Port': '9098'}, {'IP': '47.250.11.111', 'Port': '9098'}, {'IP': '47.250.177.202', 'Port': '8080'}, {'IP': '47.250.159.65', 'Port': '9098'}, {'IP': '47.250.11.111', 'Port': '8080'}, {'IP': '47.250.177.202', 'Port': '80'}, {'IP': '47.250.11.111', 'Port': '161'}, {'IP': '47.250.11.111', 'Port': '80'}, {'IP': '47.250.11.111', 'Port': '8081'}]\n"
     ]
    }
   ],
   "source": [
    "# test correct \n",
    "instance1 = Proxy(country=country1, filePath=filePath)\n",
    "\n",
    "print(instance1.proxyList)"
   ]
  },
  {
   "cell_type": "code",
   "execution_count": 6,
   "id": "793e53a5-70a8-47df-afec-426d78397050",
   "metadata": {},
   "outputs": [
    {
     "ename": "Exception",
     "evalue": "Country doesnot exist. Country > fake",
     "output_type": "error",
     "traceback": [
      "\u001b[1;31m---------------------------------------------------------------------------\u001b[0m",
      "\u001b[1;31mException\u001b[0m                                 Traceback (most recent call last)",
      "Cell \u001b[1;32mIn[6], line 2\u001b[0m\n\u001b[0;32m      1\u001b[0m \u001b[38;5;66;03m# test wrong \u001b[39;00m\n\u001b[1;32m----> 2\u001b[0m instance2 \u001b[38;5;241m=\u001b[39m Proxy(country\u001b[38;5;241m=\u001b[39mcountry2, filePath\u001b[38;5;241m=\u001b[39mfilePath)\n",
      "File \u001b[1;32m~\\OneDrive\\Documents\\GitHub\\SEM_Task2\\QualificationRoadMap\\Testing\\..\\proxy.py:12\u001b[0m, in \u001b[0;36mProxy.__init__\u001b[1;34m(self, country, filePath)\u001b[0m\n\u001b[0;32m     10\u001b[0m \u001b[38;5;28mself\u001b[39m\u001b[38;5;241m.\u001b[39mcurrent \u001b[38;5;241m=\u001b[39m \u001b[38;5;28;01mNone\u001b[39;00m \u001b[38;5;66;03m# Dict\u001b[39;00m\n\u001b[0;32m     11\u001b[0m \u001b[38;5;28mself\u001b[39m\u001b[38;5;241m.\u001b[39m__getProxyList()\n\u001b[1;32m---> 12\u001b[0m \u001b[38;5;28mself\u001b[39m\u001b[38;5;241m.\u001b[39m__countryExist()\n\u001b[0;32m     14\u001b[0m \u001b[38;5;28mself\u001b[39m\u001b[38;5;241m.\u001b[39mproxyList \u001b[38;5;241m=\u001b[39m \u001b[38;5;28mself\u001b[39m\u001b[38;5;241m.\u001b[39mproxyList[\u001b[38;5;28mself\u001b[39m\u001b[38;5;241m.\u001b[39mPROXY_COUNTRY]\n\u001b[0;32m     15\u001b[0m \u001b[38;5;28;01mif\u001b[39;00m \u001b[38;5;28mself\u001b[39m\u001b[38;5;241m.\u001b[39misProxyExist() : \n\u001b[0;32m     16\u001b[0m     \u001b[38;5;66;03m# when not null and not empty then set starting \u001b[39;00m\n",
      "File \u001b[1;32m~\\OneDrive\\Documents\\GitHub\\SEM_Task2\\QualificationRoadMap\\Testing\\..\\proxy.py:21\u001b[0m, in \u001b[0;36mProxy.__countryExist\u001b[1;34m(self)\u001b[0m\n\u001b[0;32m     19\u001b[0m \u001b[38;5;28;01mdef\u001b[39;00m \u001b[38;5;21m__countryExist\u001b[39m(\u001b[38;5;28mself\u001b[39m) \u001b[38;5;241m-\u001b[39m\u001b[38;5;241m>\u001b[39m \u001b[38;5;28mbool\u001b[39m : \n\u001b[0;32m     20\u001b[0m     \u001b[38;5;28;01mif\u001b[39;00m \u001b[38;5;28mself\u001b[39m\u001b[38;5;241m.\u001b[39mproxyList\u001b[38;5;241m.\u001b[39mget(\u001b[38;5;28mself\u001b[39m\u001b[38;5;241m.\u001b[39mPROXY_COUNTRY) \u001b[38;5;129;01mis\u001b[39;00m \u001b[38;5;28;01mNone\u001b[39;00m :\n\u001b[1;32m---> 21\u001b[0m         \u001b[38;5;28;01mraise\u001b[39;00m \u001b[38;5;167;01mException\u001b[39;00m(\u001b[38;5;124mf\u001b[39m\u001b[38;5;124m\"\u001b[39m\u001b[38;5;124mCountry doesnot exist. Country > \u001b[39m\u001b[38;5;132;01m{\u001b[39;00m\u001b[38;5;28mself\u001b[39m\u001b[38;5;241m.\u001b[39mPROXY_COUNTRY\u001b[38;5;132;01m}\u001b[39;00m\u001b[38;5;124m\"\u001b[39m)\n",
      "\u001b[1;31mException\u001b[0m: Country doesnot exist. Country > fake"
     ]
    }
   ],
   "source": [
    "# test wrong \n",
    "instance2 = Proxy(country=country2, filePath=filePath) # must have error"
   ]
  },
  {
   "cell_type": "code",
   "execution_count": 8,
   "id": "b020434b-7a09-4f3c-a335-91530d56e444",
   "metadata": {},
   "outputs": [
    {
     "ename": "FileNotFoundError",
     "evalue": "File path provide is invalid. File path > None",
     "output_type": "error",
     "traceback": [
      "\u001b[1;31m---------------------------------------------------------------------------\u001b[0m",
      "\u001b[1;31mFileNotFoundError\u001b[0m                         Traceback (most recent call last)",
      "Cell \u001b[1;32mIn[8], line 2\u001b[0m\n\u001b[0;32m      1\u001b[0m \u001b[38;5;66;03m# test wrong \u001b[39;00m\n\u001b[1;32m----> 2\u001b[0m instance2 \u001b[38;5;241m=\u001b[39m Proxy(country\u001b[38;5;241m=\u001b[39mcountry1, filePath\u001b[38;5;241m=\u001b[39mfilePathWrong)\n",
      "File \u001b[1;32m~\\OneDrive\\Documents\\GitHub\\SEM_Task2\\QualificationRoadMap\\Testing\\..\\proxy.py:11\u001b[0m, in \u001b[0;36mProxy.__init__\u001b[1;34m(self, country, filePath)\u001b[0m\n\u001b[0;32m      9\u001b[0m \u001b[38;5;28mself\u001b[39m\u001b[38;5;241m.\u001b[39mproxyList \u001b[38;5;241m=\u001b[39m \u001b[38;5;28;01mNone\u001b[39;00m \u001b[38;5;66;03m# Array\u001b[39;00m\n\u001b[0;32m     10\u001b[0m \u001b[38;5;28mself\u001b[39m\u001b[38;5;241m.\u001b[39mcurrent \u001b[38;5;241m=\u001b[39m \u001b[38;5;28;01mNone\u001b[39;00m \u001b[38;5;66;03m# Dict\u001b[39;00m\n\u001b[1;32m---> 11\u001b[0m \u001b[38;5;28mself\u001b[39m\u001b[38;5;241m.\u001b[39m__getProxyList()\n\u001b[0;32m     12\u001b[0m \u001b[38;5;28mself\u001b[39m\u001b[38;5;241m.\u001b[39m__countryExist()\n\u001b[0;32m     14\u001b[0m \u001b[38;5;28mself\u001b[39m\u001b[38;5;241m.\u001b[39mproxyList \u001b[38;5;241m=\u001b[39m \u001b[38;5;28mself\u001b[39m\u001b[38;5;241m.\u001b[39mproxyList[\u001b[38;5;28mself\u001b[39m\u001b[38;5;241m.\u001b[39mPROXY_COUNTRY]\n",
      "File \u001b[1;32m~\\OneDrive\\Documents\\GitHub\\SEM_Task2\\QualificationRoadMap\\Testing\\..\\proxy.py:28\u001b[0m, in \u001b[0;36mProxy.__getProxyList\u001b[1;34m(self)\u001b[0m\n\u001b[0;32m     26\u001b[0m     \u001b[38;5;28mself\u001b[39m\u001b[38;5;241m.\u001b[39mproxyList \u001b[38;5;241m=\u001b[39m \u001b[38;5;28mself\u001b[39m\u001b[38;5;241m.\u001b[39m__json\u001b[38;5;241m.\u001b[39mreadFile()\n\u001b[0;32m     27\u001b[0m \u001b[38;5;28;01melse\u001b[39;00m : \n\u001b[1;32m---> 28\u001b[0m     \u001b[38;5;28;01mraise\u001b[39;00m \u001b[38;5;167;01mFileNotFoundError\u001b[39;00m(\u001b[38;5;124mf\u001b[39m\u001b[38;5;124m\"\u001b[39m\u001b[38;5;124mFile path provide is invalid. File path > \u001b[39m\u001b[38;5;132;01m{\u001b[39;00m\u001b[38;5;28mself\u001b[39m\u001b[38;5;241m.\u001b[39m__json\u001b[38;5;241m.\u001b[39mgetFilePath()\u001b[38;5;132;01m}\u001b[39;00m\u001b[38;5;124m\"\u001b[39m)\n",
      "\u001b[1;31mFileNotFoundError\u001b[0m: File path provide is invalid. File path > None"
     ]
    }
   ],
   "source": [
    "# test wrong \n",
    "instance2 = Proxy(country=country1, filePath=filePathWrong) # must have error"
   ]
  },
  {
   "cell_type": "code",
   "execution_count": 9,
   "id": "963267a0-6617-4cf1-b3ac-814e40014078",
   "metadata": {},
   "outputs": [
    {
     "name": "stdout",
     "output_type": "stream",
     "text": [
      "False\n",
      "[]\n"
     ]
    }
   ],
   "source": [
    "# correct with no content \n",
    "instance3 = Proxy(country=country1, filePath=filePath)\n",
    "\n",
    "print(instance3.isProxyExist())\n",
    "print(instance3.proxyList)"
   ]
  },
  {
   "cell_type": "code",
   "execution_count": 10,
   "id": "fd6ac539-8b12-4750-8ffc-f5e43704ae7d",
   "metadata": {},
   "outputs": [
    {
     "name": "stdout",
     "output_type": "stream",
     "text": [
      "http://47.250.155.254:8443\n"
     ]
    }
   ],
   "source": [
    "print(f\"{instance1.getCurrentProxy()}\")"
   ]
  },
  {
   "cell_type": "code",
   "execution_count": 11,
   "id": "d56433db-9573-4cbd-bc60-5b66f585fc7a",
   "metadata": {},
   "outputs": [
    {
     "name": "stdout",
     "output_type": "stream",
     "text": [
      "http://47.250.51.110:9098\n",
      "http://47.250.11.111:9098\n",
      "http://47.250.177.202:8080\n",
      "http://47.250.159.65:9098\n",
      "http://47.250.11.111:8080\n",
      "http://47.250.177.202:80\n",
      "http://47.250.11.111:161\n",
      "http://47.250.11.111:80\n",
      "http://47.250.11.111:8081\n",
      "http://47.250.155.254:8443\n"
     ]
    }
   ],
   "source": [
    "# try loop all 10 proxy exist \n",
    "for i in range(10) :\n",
    "    print(f\"{instance1.getNextProxy()}\")"
   ]
  }
 ],
 "metadata": {
  "kernelspec": {
   "display_name": "roadMap",
   "language": "python",
   "name": "roadmap"
  },
  "language_info": {
   "codemirror_mode": {
    "name": "ipython",
    "version": 3
   },
   "file_extension": ".py",
   "mimetype": "text/x-python",
   "name": "python",
   "nbconvert_exporter": "python",
   "pygments_lexer": "ipython3",
   "version": "3.12.5"
  }
 },
 "nbformat": 4,
 "nbformat_minor": 5
}
