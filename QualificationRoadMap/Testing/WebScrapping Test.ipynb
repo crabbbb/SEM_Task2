{
 "cells": [
  {
   "cell_type": "markdown",
   "id": "eae08344-b0d7-4dfe-9922-e1b18a8f4fff",
   "metadata": {},
   "source": [
    "# Install Library"
   ]
  },
  {
   "cell_type": "code",
   "execution_count": 26,
   "id": "bc405e46-88f6-43bf-80ca-c20d07c9c054",
   "metadata": {},
   "outputs": [
    {
     "name": "stdout",
     "output_type": "stream",
     "text": [
      "Collecting pip-system-certs\n",
      "  Downloading pip_system_certs-4.0-py2.py3-none-any.whl.metadata (1.6 kB)\n",
      "Collecting wrapt>=1.10.4 (from pip-system-certs)\n",
      "  Downloading wrapt-1.16.0-cp312-cp312-win_amd64.whl.metadata (6.8 kB)\n",
      "Downloading pip_system_certs-4.0-py2.py3-none-any.whl (6.1 kB)\n",
      "Downloading wrapt-1.16.0-cp312-cp312-win_amd64.whl (37 kB)\n",
      "Installing collected packages: wrapt, pip-system-certs\n",
      "Successfully installed pip-system-certs-4.0 wrapt-1.16.0\n",
      "Note: you may need to restart the kernel to use updated packages.\n"
     ]
    }
   ],
   "source": [
    "# %pip install requests\n",
    "# %pip install beautifulsoup4\n",
    "# %pip install selenium\n",
    "# %pip install webdriver-manager\n",
    "# %pip install --upgrade certifi\n",
    "# %pip install pip-system-certs\n",
    "# %pip install certifi"
   ]
  },
  {
   "cell_type": "code",
   "execution_count": 1,
   "id": "7c36759b-df12-48e7-8192-fc51825accf5",
   "metadata": {},
   "outputs": [],
   "source": [
    "import sys\n",
    "\n",
    "# change module search path to parent directory \n",
    "sys.path.append('./../')"
   ]
  },
  {
   "cell_type": "code",
   "execution_count": 27,
   "id": "fde210ba-88d6-4401-83c6-0b77e1e61034",
   "metadata": {},
   "outputs": [
    {
     "data": {
      "text/plain": [
       "{'status': 'ok', 'restart': True}"
      ]
     },
     "execution_count": 27,
     "metadata": {},
     "output_type": "execute_result"
    }
   ],
   "source": [
    "import IPython\n",
    "app = IPython.Application.instance()\n",
    "app.kernel.do_shutdown(True)"
   ]
  },
  {
   "cell_type": "markdown",
   "id": "f98df0f5-394d-48f1-b9ff-c14847ecbfad",
   "metadata": {},
   "source": [
    "# Testing"
   ]
  },
  {
   "cell_type": "markdown",
   "id": "f1753b40-2ebd-4a1c-b9df-7e69c5b2c3f7",
   "metadata": {},
   "source": [
    "## Normal Request"
   ]
  },
  {
   "cell_type": "code",
   "execution_count": 3,
   "id": "a0ddf610-cc20-42ad-b07f-176e9de27956",
   "metadata": {},
   "outputs": [
    {
     "data": {
      "text/plain": [
       "<Response [200]>"
      ]
     },
     "execution_count": 3,
     "metadata": {},
     "output_type": "execute_result"
    }
   ],
   "source": [
    "import requests\n",
    "\n",
    "# Making a GET request\n",
    "r = requests.get('https://www.geeksforgeeks.org/python-programming-language/')\n",
    "\n",
    "# check status code for response received\n",
    "# success code - 200\n",
    "# print(r)\n",
    "\n",
    "# print content of request\n",
    "# print(r.content)\n",
    "\n",
    "r"
   ]
  },
  {
   "cell_type": "code",
   "execution_count": 1,
   "id": "e32e8b7b-4cdf-405e-8de5-353c9eb944e2",
   "metadata": {},
   "outputs": [
    {
     "name": "stdout",
     "output_type": "stream",
     "text": [
      "Success!\n",
      "HTTP error occurred: 404 Client Error: Not Found for url: https://api.github.com/invalid\n"
     ]
    }
   ],
   "source": [
    "import requests\n",
    "from requests.exceptions import HTTPError\n",
    "\n",
    "URLS = [\"https://api.github.com\", \"https://api.github.com/invalid\"]\n",
    "\n",
    "for url in URLS:\n",
    "    try:\n",
    "        response = requests.get(url)\n",
    "        response.raise_for_status()\n",
    "    except HTTPError as http_err:\n",
    "        print(f\"HTTP error occurred: {http_err}\")\n",
    "    except Exception as err:\n",
    "        print(f\"Other error occurred: {err}\")\n",
    "    else:\n",
    "        print(\"Success!\")"
   ]
  },
  {
   "cell_type": "markdown",
   "id": "1b04e37e-f19e-4f76-9d84-c0491aa8055f",
   "metadata": {},
   "source": [
    "## Request and use BeautifulSoup"
   ]
  },
  {
   "cell_type": "code",
   "execution_count": null,
   "id": "31b26420-c929-44a0-8b1c-21233d207dc1",
   "metadata": {
    "scrolled": true
   },
   "outputs": [],
   "source": [
    "import requests\n",
    "from bs4 import BeautifulSoup\n",
    "\n",
    "\n",
    "# Making a GET request\n",
    "r = requests.get('https://www.geeksforgeeks.org/python-programming-language/')\n",
    "\n",
    "# check status code for response received\n",
    "# success code - 200\n",
    "print(r)\n",
    "\n",
    "# Parsing the HTML\n",
    "soup = BeautifulSoup(r.content, 'html.parser')\n",
    "print(soup.prettify())"
   ]
  },
  {
   "cell_type": "markdown",
   "id": "88ffdff7-0754-4c34-a5ea-6a755f67b84a",
   "metadata": {},
   "source": [
    "### Find and Find all"
   ]
  },
  {
   "cell_type": "code",
   "execution_count": null,
   "id": "3ea4ead1-7181-4ae3-9141-c1a3380f4629",
   "metadata": {},
   "outputs": [],
   "source": [
    "import requests\n",
    "from bs4 import BeautifulSoup\n",
    "\n",
    "\n",
    "# Making a GET request\n",
    "r = requests.get('https://www.geeksforgeeks.org/python-programming-language/')\n",
    "\n",
    "# Parsing the HTML\n",
    "soup = BeautifulSoup(r.content, 'html.parser')\n",
    "\n",
    "s = soup.find('div', class_='mega-dropdown__list-item')\n",
    "display(s)\n",
    "# content = s.find_all('p')\n",
    "\n",
    "# print(content)"
   ]
  },
  {
   "cell_type": "code",
   "execution_count": 61,
   "id": "2b1c2a68-7254-47c4-b42d-76808a9a3a9e",
   "metadata": {
    "scrolled": true
   },
   "outputs": [],
   "source": [
    "# Try access to tarumt website\n",
    "import requests\n",
    "from bs4 import BeautifulSoup\n",
    "\n",
    "# create request \n",
    "root = 'https://focs.tarc.edu.my'"
   ]
  },
  {
   "cell_type": "code",
   "execution_count": 68,
   "id": "ce8c1a27-40a5-405c-9cab-42d3340fd44b",
   "metadata": {},
   "outputs": [
    {
     "name": "stdout",
     "output_type": "stream",
     "text": [
      "https://focs.tarc.edu.my/programmes/diploma/diploma-in-computer-science-dcs\n"
     ]
    }
   ],
   "source": [
    "programme = '/programmes/diploma/diploma-in-computer-science-dcs'\n",
    "\n",
    "link = root + programme\n",
    "\n",
    "print(link)\n",
    "\n",
    "reseponse = requests.get(link)"
   ]
  },
  {
   "cell_type": "code",
   "execution_count": null,
   "id": "c7f191ac-2cb5-4dc0-a7de-8264a19c308b",
   "metadata": {
    "scrolled": true
   },
   "outputs": [],
   "source": [
    "# code for make the request look like from normal browser\n",
    "import requests\n",
    "from bs4 import BeautifulSoup\n",
    "\n",
    "# URL setup\n",
    "root = 'https://focs.tarc.edu.my'\n",
    "programme = '/programmes'\n",
    "link = root + programme\n",
    "\n",
    "# Headers to simulate a real browser\n",
    "headers = {\n",
    "    'User-Agent': 'Mozilla/5.0 (Windows NT 10.0; Win64; x64) AppleWebKit/537.36 (KHTML, like Gecko) Chrome/91.0.4472.124 Safari/537.36'\n",
    "}\n",
    "\n",
    "# Create request with headers\n",
    "response = requests.get(link, headers=headers)\n",
    "\n",
    "# Parse with BeautifulSoup\n",
    "soup = BeautifulSoup(response.content, 'html.parser')\n",
    "\n",
    "# Print the prettified HTML content\n",
    "print(soup.prettify())\n"
   ]
  },
  {
   "cell_type": "code",
   "execution_count": 93,
   "id": "a321dd20-d45b-4773-8eaf-82870da6af8d",
   "metadata": {},
   "outputs": [
    {
     "name": "stdout",
     "output_type": "stream",
     "text": [
      "15\n",
      "<div class=\"tyJCtd baZpAe\"><a class=\"fqo2vd\" href=\"/programmes/foundation\"><div class=\"t3iYD\"><img class=\"CENy8b\" src=\"https://lh4.googleusercontent.com/557XmP-lrcmf2AnU2CiTRynDN1hTAFtCflKBFh8kEWy0cxJ3yb6eGGvt7hGS_kY-M40UCggaLDuTgPn_viPOzzSF9n1d1G5-y5_jxalEAnzyKIkIGgWFPWqE5ZXeOGWOdA=w1280\"/></div></a></div>\n",
      "/programmes/foundation\n",
      "<div class=\"tyJCtd baZpAe\"><a class=\"fqo2vd\" href=\"/programmes/diploma\"><div class=\"t3iYD\"><img class=\"CENy8b\" src=\"https://lh6.googleusercontent.com/a6gRu0K67wT1yngpBOldEzEnur0qTvxUF2up9BYdwK9AVrCFXdAd1xrn9U_gojK1PSRf0sI_QrUQmBtFl-_8NSkDHmC72sxBKy65RmGIjTxdG7PvKRuCuCrqfam0fg1F1A=w1280\"/></div></a></div>\n",
      "/programmes/diploma\n",
      "<div class=\"tyJCtd baZpAe\"><a class=\"fqo2vd\" href=\"/programmes/bachelor-degree\"><div class=\"t3iYD\"><img class=\"CENy8b\" src=\"https://lh5.googleusercontent.com/Cxsn03DIio_nWDWzVrmaUl0Bz0fqEjY-YeGb6cvPWr-T5MF56zZpo9QrI3Hnl3iNfnNFpuPndtSUuUUcaVmtfynQEx1xlnKKfZdsMlt0kDPIuD0dcDFgvqCrJcp9U65d=w1280\"/></div></a></div>\n",
      "/programmes/bachelor-degree\n",
      "<div class=\"tyJCtd baZpAe\"><a class=\"fqo2vd\" href=\"https://www.google.com/url?q=https%3A%2F%2Fsites.google.com%2Fd%2F1DWjsWYLpQtY-zxRA4fxBakXqlwkOx6Eg%2Fp%2F1Ep8IJQEW5B9n5SSqQWIT17RnGJTKiPoq%2Fedit&amp;sa=D&amp;sntz=1&amp;usg=AOvVaw1KmeMfB_f4NU9z_8Mbm8kg\" target=\"_blank\"><div class=\"t3iYD\"><img class=\"CENy8b\" src=\"https://lh3.googleusercontent.com/YSX8mvOclk_ebAsEAxLJhFU20gpLzFiik-t7Hdvr9CLb6j8IvtANeJhZ0T-xPDlKIqAhzZoNRWfoodPi_c2xPoHMKRLxwirpFqrTezzkAUOZb59yVlPCkxsXerLprkBYtg=w1280\"/></div></a></div>\n",
      "https://www.google.com/url?q=https%3A%2F%2Fsites.google.com%2Fd%2F1DWjsWYLpQtY-zxRA4fxBakXqlwkOx6Eg%2Fp%2F1Ep8IJQEW5B9n5SSqQWIT17RnGJTKiPoq%2Fedit&sa=D&sntz=1&usg=AOvVaw1KmeMfB_f4NU9z_8Mbm8kg\n"
     ]
    },
    {
     "data": {
      "text/plain": [
       "['/programmes/foundation',\n",
       " '/programmes/diploma',\n",
       " '/programmes/bachelor-degree',\n",
       " 'https://www.google.com/url?q=https%3A%2F%2Fsites.google.com%2Fd%2F1DWjsWYLpQtY-zxRA4fxBakXqlwkOx6Eg%2Fp%2F1Ep8IJQEW5B9n5SSqQWIT17RnGJTKiPoq%2Fedit&sa=D&sntz=1&usg=AOvVaw1KmeMfB_f4NU9z_8Mbm8kg']"
      ]
     },
     "execution_count": 93,
     "metadata": {},
     "output_type": "execute_result"
    }
   ],
   "source": [
    "soup = BeautifulSoup(response.content, 'html.parser')\n",
    "# print(soup.prettify())\n",
    "list = getContent(soup, 4)\n",
    "\n",
    "list"
   ]
  },
  {
   "cell_type": "code",
   "execution_count": 20,
   "id": "5a3aa7b1-965c-4c99-8c38-a5c59895db1d",
   "metadata": {},
   "outputs": [],
   "source": [
    "url = 'https://focs.tarc.edu.my/programmes'\n",
    "\n",
    "response = requests.get(url)\n",
    "\n",
    "# Parsing the HTML\n",
    "soup = BeautifulSoup(response.content, 'html.parser')"
   ]
  },
  {
   "cell_type": "code",
   "execution_count": 26,
   "id": "ed0c1340-3735-47a1-9896-3d8fb48a4b75",
   "metadata": {},
   "outputs": [],
   "source": [
    "def getHeader(soup : BeautifulSoup) :\n",
    "    content = soup.find('span', class_='GJytX C9DxTc')\n",
    "\n",
    "    return content.getText()"
   ]
  },
  {
   "cell_type": "code",
   "execution_count": 92,
   "id": "80aab3e7-4f86-49cc-bb88-9063b8efccc6",
   "metadata": {},
   "outputs": [],
   "source": [
    "def getContent(soup, limit : int) : \n",
    "    # get outer box\n",
    "    content = soup.find_all(class_='tyJCtd baZpAe')\n",
    "    count = 0\n",
    "    lList = []\n",
    "    print(len(content))\n",
    "        \n",
    "    for element in content:\n",
    "        # second filter - find the link \n",
    "        print(element)\n",
    "        link = element.find('a', class_='fqo2vd', href=True)\n",
    "        print(link['href'])\n",
    "        if link != None : \n",
    "            lList.append(link['href'])\n",
    "            count += 1\n",
    "            if count == limit :\n",
    "                break\n",
    "    return lList # filter not fulfill will have [] empty array\n",
    "        \n",
    "    # return None # first filter not fulfill"
   ]
  },
  {
   "cell_type": "code",
   "execution_count": null,
   "id": "55040b12-695e-49c1-831c-da8023546c02",
   "metadata": {},
   "outputs": [],
   "source": [
    "# get all programmes \n",
    "def getProgrammes() :\n",
    "    "
   ]
  },
  {
   "cell_type": "code",
   "execution_count": 56,
   "id": "ae5e1638-3e40-4821-8d87-1b3906f72157",
   "metadata": {},
   "outputs": [
    {
     "name": "stdout",
     "output_type": "stream",
     "text": [
      "This element doesnot exist \n",
      "\n",
      "This element doesnot exist \n",
      "\n",
      "This element doesnot exist \n",
      "\n",
      "This element doesnot exist \n",
      "\n",
      "This element doesnot exist \n",
      "\n",
      "This element doesnot exist \n",
      "\n",
      "This element doesnot exist \n",
      "\n",
      "Link for the image > /people_1/alumni \n",
      "\n",
      "<div class=\"tyJCtd baZpAe\">\n",
      " <a class=\"fqo2vd\" href=\"/people_1/alumni\">\n",
      "  <div class=\"t3iYD\">\n",
      "   <img class=\"CENy8b\" src=\"https://lh4.googleusercontent.com/MJCzoqpVDthPTAgq8mSG06oAGnCn8ld8afIbG67o4IllAYysXYQJNIxs2pXd5WM0DtJStqrLkTYntVMIrD4jUEQ=w1280\" style=\"width: 100%; margin: 0% 0 0% 0%\"/>\n",
      "  </div>\n",
      " </a>\n",
      "</div>\n",
      "\n",
      "Link for the image > /people_1/alumni \n",
      "\n",
      "<div class=\"tyJCtd baZpAe\">\n",
      " <a class=\"fqo2vd\" href=\"/people_1/alumni\">\n",
      "  <div class=\"t3iYD\">\n",
      "   <img class=\"CENy8b\" src=\"https://lh6.googleusercontent.com/aD-tMNTPBzKvE2CWOwHcoA0f9oY8kWri9E_EWySYFXWWi54QKAuU-dCWHLHVBIEadjHM_TyMk2T8QLzwn5gWr98=w1280\" style=\"width: 100%; margin: 0% 0 0% 0%\"/>\n",
      "  </div>\n",
      " </a>\n",
      "</div>\n",
      "\n",
      "Link for the image > /people_1/alumni \n",
      "\n",
      "<div class=\"tyJCtd baZpAe\">\n",
      " <a class=\"fqo2vd\" href=\"/people_1/alumni\">\n",
      "  <div class=\"t3iYD\">\n",
      "   <img class=\"CENy8b\" src=\"https://lh6.googleusercontent.com/3rr43YBCJ7gl6XiVGHX4VeycH0KvT7C9LjkVL_hD6GQoOSagZt21tUPJVOec_9FZU19_Gr1v3o2o2B5zqB15kJY=w1280\" style=\"width: 100%; margin: 0% 0 0% 0%\"/>\n",
      "  </div>\n",
      " </a>\n",
      "</div>\n",
      "\n",
      "Link for the image > https://www.google.com/url?q=https%3A%2F%2Ftarc.edu.my%2F&sa=D&sntz=1&usg=AOvVaw3HfwpGuLgi03juEEnvTGPZ \n",
      "\n",
      "<div class=\"tyJCtd baZpAe\">\n",
      " <a class=\"fqo2vd\" href=\"https://www.google.com/url?q=https%3A%2F%2Ftarc.edu.my%2F&amp;sa=D&amp;sntz=1&amp;usg=AOvVaw3HfwpGuLgi03juEEnvTGPZ\" target=\"_blank\">\n",
      "  <div class=\"t3iYD\">\n",
      "   <img class=\"CENy8b\" src=\"https://lh4.googleusercontent.com/m7wlnrEIpCtW26q-EFBL385rSGwInhLxie2FMyU_48wuM6eet1NPTOzzP_6rk_v9UxlSVMxsCStVDT8jWfLxqZMuVVDncIHnFMbIxD5Giik6BuhnLbRCF85H8jgmrtCRvg=w1280\"/>\n",
      "  </div>\n",
      " </a>\n",
      "</div>\n",
      "\n",
      "This element doesnot exist \n",
      "\n",
      "This element doesnot exist \n",
      "\n",
      "This element doesnot exist \n",
      "\n"
     ]
    }
   ],
   "source": [
    "# Parsing the HTML\n",
    "soup = BeautifulSoup(response.content, 'html.parser')\n",
    "# print(soup.prettify())\n",
    "\n",
    "content = soup.find_all(class_='tyJCtd baZpAe')\n",
    "\n",
    "for element in content:\n",
    "\n",
    "    link = element.find('a', class_='fqo2vd', href=True)\n",
    "\n",
    "    if (link != None) : \n",
    "        print(f\"Link for the image > {link['href']} \\n\")\n",
    "\n",
    "        print(element.prettify())\n",
    "    else : \n",
    "        print(\"This element doesnot exist \\n\")\n",
    "    "
   ]
  },
  {
   "cell_type": "code",
   "execution_count": 9,
   "id": "d12edb57-d027-4e9d-9cdc-e83695d35e4f",
   "metadata": {},
   "outputs": [
    {
     "name": "stdout",
     "output_type": "stream",
     "text": [
      "Failed to retrieve image. Status code: 403\n"
     ]
    }
   ],
   "source": [
    "import requests\n",
    "\n",
    "# Define the image URL and the filename\n",
    "url = \"https://lh4.googleusercontent.com/lR60nR_UWR_MzNcgkhHnasA1wL-lR6WkcHey8RF58l9JigeLNJQ2g2ecVzwvITAt1CoWII__BHAj5pJddKcfzDeFUrabtm-jaWYUrW0ZNzhRjy3Ipk9K6qV0FtfkJbPI-w=w1280\"\n",
    "file_name = \"downloaded_image.jpg\"\n",
    "\n",
    "# Send a GET request to the URL\n",
    "response = requests.get(url, stream=True)\n",
    "\n",
    "# Check if the request was successful\n",
    "if response.status_code == 200:\n",
    "    # Open the file in write-binary mode and save the image\n",
    "    with open(file_name, 'wb') as out_file:\n",
    "        out_file.write(response.content)\n",
    "    print(f\"Image successfully downloaded as {file_name}\")\n",
    "else:\n",
    "    print(f\"Failed to retrieve image. Status code: {response.status_code}\")"
   ]
  },
  {
   "cell_type": "markdown",
   "id": "34a54083-a371-4f19-baae-1e9b2a48d442",
   "metadata": {},
   "source": [
    "## Request by using Selenium"
   ]
  },
  {
   "cell_type": "code",
   "execution_count": null,
   "id": "65496188-fcf3-4e68-a8f7-226146a0c9c1",
   "metadata": {},
   "outputs": [],
   "source": [
    "from selenium import webdriver\n",
    "from selenium.webdriver.common.by import By\n",
    "from webdriver_manager.chrome import ChromeDriverManager"
   ]
  },
  {
   "cell_type": "markdown",
   "id": "cc147630-e112-4682-a07e-f3eb9350df40",
   "metadata": {},
   "source": [
    "# use header"
   ]
  },
  {
   "cell_type": "code",
   "execution_count": 98,
   "id": "8b34a60f-0d3f-446f-ac14-4c1c8b0db208",
   "metadata": {},
   "outputs": [],
   "source": [
    "# Try access to tarumt website\n",
    "import requests\n",
    "from bs4 import BeautifulSoup\n",
    "\n",
    "# create request \n",
    "root = 'https://focs.tarc.edu.my'\n",
    "\n",
    "# Headers to simulate a real browser\n",
    "headers = {\n",
    "    'User-Agent': 'Mozilla/5.0 (Windows NT 10.0; Win64; x64) AppleWebKit/537.36 (KHTML, like Gecko) Chrome/91.0.4472.124 Safari/537.36'\n",
    "}"
   ]
  },
  {
   "cell_type": "code",
   "execution_count": 100,
   "id": "5d1bb568-0062-4a6c-b3c7-2273a829e68b",
   "metadata": {},
   "outputs": [
    {
     "name": "stdout",
     "output_type": "stream",
     "text": [
      "https://focs.tarc.edu.my/programmes\n",
      "request status > 200\n"
     ]
    }
   ],
   "source": [
    "programme = '/programmes'\n",
    "\n",
    "link = root + programme\n",
    "\n",
    "print(link)\n",
    "\n",
    "response = requests.get(link, headers=headers)\n",
    "\n",
    "print(f\"request status > {reseponse.status_code}\")"
   ]
  },
  {
   "cell_type": "code",
   "execution_count": 101,
   "id": "e61f0175-4f59-42b2-9d9a-c7ccbfeb9c00",
   "metadata": {},
   "outputs": [],
   "source": [
    "# Parse with BeautifulSoup\n",
    "soup = BeautifulSoup(response.content, 'html.parser')\n",
    "\n",
    "# Print the prettified HTML content\n",
    "# print(soup.prettify())\n"
   ]
  },
  {
   "cell_type": "code",
   "execution_count": 105,
   "id": "2b46e788-d740-40ea-8b06-9b637a499a95",
   "metadata": {},
   "outputs": [],
   "source": [
    "# get the programme header\n",
    "allProgrammes = soup.find('div', class_=\"oGuwee jymhMd Mkt3Tc\")\n",
    "\n",
    "# allProgrammes\n",
    "separateProgrammes = allProgrammes.find_all('li', attrs={\"data-nav-level\" : 2})\n"
   ]
  },
  {
   "cell_type": "code",
   "execution_count": 107,
   "id": "ac057a6a-c5a5-4459-a9ac-c96fa4abd102",
   "metadata": {},
   "outputs": [
    {
     "data": {
      "text/plain": [
       "4"
      ]
     },
     "execution_count": 107,
     "metadata": {},
     "output_type": "execute_result"
    }
   ],
   "source": [
    "len(separateProgrammes)"
   ]
  },
  {
   "cell_type": "code",
   "execution_count": 111,
   "id": "3a190e78-fe1c-4867-80f7-957269d9db62",
   "metadata": {},
   "outputs": [],
   "source": [
    "# put under webscraping \n",
    "def formatLink(link):\n",
    "    # if start with https then no need to rewrite \n",
    "    if not link.__contains__('https://') : \n",
    "        return root + link\n",
    "    return None"
   ]
  },
  {
   "cell_type": "code",
   "execution_count": 115,
   "id": "2031a692-adef-4f48-8a87-1b1fbd11f157",
   "metadata": {},
   "outputs": [
    {
     "name": "stdout",
     "output_type": "stream",
     "text": [
      "FOUNDATION https://focs.tarc.edu.my/programmes/foundation \n",
      "\n",
      "DIPLOMA https://focs.tarc.edu.my/programmes/diploma \n",
      "\n",
      "BACHELOR DEGREE https://focs.tarc.edu.my/programmes/bachelor-degree \n",
      "\n",
      "POSTGRADUATE https://focs.tarc.edu.my/programmes/postgraduate \n",
      "\n"
     ]
    }
   ],
   "source": [
    "from qualification import QualificationLevel\n",
    "from course import Course\n",
    "\n",
    "qList = []\n",
    "\n",
    "for p in separateProgrammes :\n",
    "    # get programmes name \n",
    "    programme = p.find('a', class_='aJHbb hDrhEe HlqNPb', href=True)\n",
    "\n",
    "    programmeName = programme.getText().upper()\n",
    "\n",
    "    if programmeName == 'POSTGRADUATE' : \n",
    "        \n",
    "    q = QualificationLevel(level=programmeName, link=formatLink(programme['href']))\n",
    "\n",
    "    print(q.level, q.link, \"\\n\")"
   ]
  },
  {
   "cell_type": "code",
   "execution_count": null,
   "id": "99a34620-d025-426f-84ae-c97d91050df8",
   "metadata": {},
   "outputs": [],
   "source": [
    "# processing the postgraduate \n",
    "if programme"
   ]
  },
  {
   "cell_type": "code",
   "execution_count": 117,
   "id": "abd6abc3-9615-4af2-b2cb-6d1806a41203",
   "metadata": {},
   "outputs": [
    {
     "name": "stdout",
     "output_type": "stream",
     "text": [
      "\n",
      "\n",
      "\n",
      "DIPLOMA IN COMPUTER SCIENCE (DCS) https://focs.tarc.edu.my/programmes/diploma/diploma-in-computer-science-dcs \n",
      "\n",
      "DIPLOMA IN INFORMATION SYSTEMS (DIS) https://focs.tarc.edu.my/programmes/diploma/diploma-in-information-systems-dis \n",
      "\n",
      "DIPLOMA IN INFORMATION TECHNOLOGY (DFT) https://focs.tarc.edu.my/programmes/diploma/diploma-in-information-technology-dft \n",
      "\n",
      "DIPLOMA IN SOFTWARE ENGINEERING (DSF) https://focs.tarc.edu.my/programmes/diploma/diploma-in-software-engineering-dsf \n",
      "\n",
      "\n",
      "\n",
      "\n",
      "BACHELOR OF SCIENCE (HONOURS) IN  MANAGEMENT MATHEMATICS WITH COMPUTI (RMM) https://focs.tarc.edu.my/programmes/bachelor-degree/bachelor-of-science-honours-in-management-mathematics-with-computi-rmm \n",
      "\n",
      "BACHELOR OF COMPUTER SCIENCE (HONOURS) IN INTERACTIVE SOFTWARE TECHNO (RST) https://focs.tarc.edu.my/programmes/bachelor-degree/bachelor-of-computer-science-honours-in-interactive-software-techno-rst \n",
      "\n",
      "BACHELOR OF COMPUTER SCIENCE (HONOURS) IN  DATA SCIENCE (RDS) https://focs.tarc.edu.my/programmes/bachelor-degree/bachelor-of-computer-science-honours-in-data-science-rds \n",
      "\n",
      "BACHELOR OF INFORMATION SYSTEMS (HONOURS) IN ENTERPRISE INFORMATION S (REI) https://focs.tarc.edu.my/programmes/bachelor-degree/bachelor-of-information-systems-honours-in-enterprise-information-s-rei \n",
      "\n",
      "BACHELOR OF INFORMATION TECHNOLOGY (HONOURS) IN INFORMATION SECURITY (RIS) https://focs.tarc.edu.my/programmes/bachelor-degree/bachelor-of-information-technology-honours-in-information-security-ris \n",
      "\n",
      "BACHELOR OF INFORMATION TECHNOLOGY (HONOURS) IN SOFTWARE SYSTEMS DEVE (RSD) https://focs.tarc.edu.my/programmes/bachelor-degree/bachelor-of-information-technology-honours-in-software-systems-deve-rsd \n",
      "\n",
      "BACHELOR OF SOFTWARE ENGINEERING (HONOURS) (RSW) https://focs.tarc.edu.my/programmes/bachelor-degree/bachelor-of-software-engineering-honours-rsw \n",
      "\n",
      "\n",
      "\n",
      "\n",
      "\n",
      "\n",
      "\n"
     ]
    }
   ],
   "source": [
    "# GET COURSE get p \n",
    "# def getCourseList() : \n",
    "#     clist = []\n",
    "\n",
    "clist = []\n",
    "for p in separateProgrammes : \n",
    "    allCourses = p.find('ul', class_=\"VcS63b\")\n",
    "    if allCourses is not None : \n",
    "        seperateCourse = allCourses.find_all('li', attrs={\"data-nav-level\" : 3})\n",
    "    \n",
    "        for c in seperateCourse : \n",
    "            course = c.find('a', class_=\"aJHbb hDrhEe HlqNPb\", href=True)\n",
    "    \n",
    "            courseName = course.getText().upper()\n",
    "            courseLink = formatLink(course['href'])\n",
    "    \n",
    "            print(courseName, courseLink, \"\\n\")\n",
    "\n",
    "    print(\"\\n\\n\")\n",
    "\n"
   ]
  },
  {
   "cell_type": "code",
   "execution_count": 3,
   "id": "035e7f22-6086-4293-9096-b237592df9e3",
   "metadata": {},
   "outputs": [],
   "source": [
    "# try to processing master and phd \n",
    "from web_scraping import WebScrap\n",
    "import requests\n",
    "from bs4 import BeautifulSoup\n",
    "\n",
    "# Headers to simulate a real browser\n",
    "headers = {\n",
    "    'User-Agent': 'Mozilla/5.0 (Windows NT 10.0; Win64; x64) AppleWebKit/537.36 (KHTML, like Gecko) Chrome/91.0.4472.124 Safari/537.36'\n",
    "}\n",
    "\n",
    "ws = WebScrap(filePath='../JsonLibrary/repo.json')\n",
    "\n",
    "link = \"https://focs.tarc.edu.my/programmes/postgraduate\"\n",
    "# link = \"https://focs.tarc.edu.my/programmes\"\n",
    "\n",
    "response = requests.get(link, headers=headers)\n",
    "\n",
    "# ws.getCon(soup=soup, limit=limit)"
   ]
  },
  {
   "cell_type": "code",
   "execution_count": null,
   "id": "cf0b7ea2-fe6d-4520-91c1-d4d077c17f34",
   "metadata": {},
   "outputs": [],
   "source": []
  },
  {
   "cell_type": "code",
   "execution_count": 29,
   "id": "9fe0e8bf-9798-4354-ab1c-5c6e4644775b",
   "metadata": {},
   "outputs": [
    {
     "name": "stdout",
     "output_type": "stream",
     "text": [
      "https://cpsr.tarc.edu.my/programmes/by-research/faculty-of-computing-and-information-technology/doctor-of-philosophy-computer-science\n"
     ]
    }
   ],
   "source": [
    "# Headers to simulate a real browser\n",
    "headers = {\n",
    "    'User-Agent': 'Mozilla/5.0 (Windows NT 10.0; Win64; x64) AppleWebKit/537.36 (KHTML, like Gecko) Chrome/91.0.4472.124 Safari/537.36'\n",
    "}\n",
    "\n",
    "def checkRedirectLink(link, level) : \n",
    "    redirect = 'https://www.google.com/url?'\n",
    "    if redirect in link : \n",
    "        # is redirect link, access redirect page and take the real link \n",
    "        response = requests.get(link, headers=headers)\n",
    "        soup = BeautifulSoup(response.content, 'html.parser')\n",
    "\n",
    "        if level.upper() == \"MASTER\" :  \n",
    "            newlink = soup.find('body').getText()\n",
    "            index = newlink.index('https')\n",
    "    \n",
    "            return newlink[index:]\n",
    "        elif level.upper() == \"PHD\" :\n",
    "            outerBox = soup.find('div', class_='fTk7vd')\n",
    "            link = outerBox.find('a', href=True)\n",
    "\n",
    "            return link['href']\n",
    "        else :\n",
    "            return link\n",
    "        # newlink = soup.find_all('meta', attrs={\"http-equiv\": \"refresh\"})\n",
    "        # print(newlink)\n",
    "    else : \n",
    "        # no keyword consist\n",
    "        return link\n",
    "\n",
    "\n",
    "link = 'https://www.google.com/url?q=https%3A%2F%2Fcpsr.tarc.edu.my%2Fprogrammes%2Fby-research%2Ffaculty-of-computing-and-information-technology%2Fdoctor-of-philosophy-computer-science&amp;sa=D&amp;sntz=1&amp;usg=AOvVaw0_VGogAyRlteVZNkaKdN8L'\n",
    "\n",
    "# for phd\n",
    "print(checkRedirectLink(link, \"PHD\"))"
   ]
  },
  {
   "cell_type": "code",
   "execution_count": 20,
   "id": "b92e5b97-b8c5-4d35-b365-b9235143fe2b",
   "metadata": {
    "scrolled": true
   },
   "outputs": [
    {
     "name": "stdout",
     "output_type": "stream",
     "text": [
      "<html lang=\"en-MY\">\n",
      " <head>\n",
      "  <meta content=\"text/html; charset=utf-8\" http-equiv=\"Content-Type\"/>\n",
      "  <title>\n",
      "   Redirect Notice\n",
      "  </title>\n",
      "  <style>\n",
      "   body,div,a{font-family:Arial,sans-serif}body{background-color:#fff;margin-top:3px}div{color:#000}a:link{color:#681da8}a:visited{color:#681da8}a:active{color:#ea4335}div.mymGo{border-top:1px solid var(--gS5jXb);border-bottom:1px solid var(--gS5jXb);background:#f8f9fa;margin-top:1em;width:100%}div.aXgaGb{padding:0.5em 0;margin-left:10px}div.fTk7vd{margin-left:35px;margin-top:35px}\n",
      "  </style>\n",
      " </head>\n",
      " <body>\n",
      "  <div class=\"mymGo\">\n",
      "   <div class=\"aXgaGb\">\n",
      "    <font style=\"font-size:larger\">\n",
      "     <b>\n",
      "      Redirect Notice\n",
      "     </b>\n",
      "    </font>\n",
      "   </div>\n",
      "  </div>\n",
      "  <div class=\"fTk7vd\">\n",
      "   The page you were on is trying to send you to\n",
      "   <a href=\"https://cpsr.tarc.edu.my/programmes/by-research/faculty-of-computing-and-information-technology/doctor-of-philosophy-computer-science\">\n",
      "    https://cpsr.tarc.edu.my/programmes/by-research/faculty-of-computing-and-information-technology/doctor-of-philosophy-computer-science\n",
      "   </a>\n",
      "   .\n",
      "   <br/>\n",
      "   <br/>\n",
      "   If you do not want to visit that page, you can\n",
      "   <a href=\"#\" id=\"tsuid_xTnvZs3yC7u74-EPx62ckQQ_1\">\n",
      "    return to the previous page\n",
      "   </a>\n",
      "   .\n",
      "   <script nonce=\"O6qdGwHK8sD9u7V7Am1zzw\">\n",
      "    (function(){var id='tsuid_xTnvZs3yC7u74-EPx62ckQQ_1';(function(){document.getElementById(id).onclick=function(){window.history.back();return!1};}).call(this);})();(function(){var id='tsuid_xTnvZs3yC7u74-EPx62ckQQ_1';var ct='originlink';var oi='unauthorizedredirect';(function(){document.getElementById(id).onmousedown=function(){var b=document&&document.referrer,a=\"encodeURIComponent\"in window?encodeURIComponent:escape,c=\"\";b&&(c=a(b));(new Image).src=\"/url?sa=T&url=\"+c+\"&oi=\"+a(oi)+\"&ct=\"+a(ct);return!1};}).call(this);})();\n",
      "   </script>\n",
      "   <br/>\n",
      "   <br/>\n",
      "   <br/>\n",
      "  </div>\n",
      " </body>\n",
      "</html>\n",
      "\n"
     ]
    }
   ],
   "source": [
    "link = 'https://www.google.com/url?q=https%3A%2F%2Fcpsr.tarc.edu.my%2Fprogrammes%2Fby-research%2Ffaculty-of-computing-and-information-technology%2Fdoctor-of-philosophy-computer-science&amp;sa=D&amp;sntz=1&amp;usg=AOvVaw0_VGogAyRlteVZNkaKdN8L'\n",
    "response = requests.get(link, headers=headers)\n",
    "soup = BeautifulSoup(response.content, 'html.parser')\n",
    "print(soup.prettify())\n",
    "link = ws.getCon(soup, 6)"
   ]
  },
  {
   "cell_type": "code",
   "execution_count": 6,
   "id": "cdd65333-3112-44a2-b31a-00740f5b1ece",
   "metadata": {},
   "outputs": [
    {
     "name": "stdout",
     "output_type": "stream",
     "text": [
      "<html>\n",
      " <head>\n",
      "  <meta content=\"text/html;charset=utf-8\" http-equiv=\"content-type\"/>\n",
      "  <title>\n",
      "   Redirecting\n",
      "  </title>\n",
      "  <meta content=\"1; url=https://sites.google.com/tarc.edu.my/cpus/programmes/foundation-in-computing\" http-equiv=\"refresh\"/>\n",
      " </head>\n",
      " <body onload=\"location.replace('https://sites.google.com/tarc.edu.my/cpus/programmes/foundation-in-computing'+document.location.hash)\">\n",
      "  Redirecting you to https://sites.google.com/tarc.edu.my/cpus/programmes/foundation-in-computing\n",
      " </body>\n",
      "</html>\n",
      "\n"
     ]
    },
    {
     "data": {
      "text/plain": [
       "'https://sites.google.com/tarc.edu.my/cpus/programmes/foundation-in-computing'"
      ]
     },
     "execution_count": 6,
     "metadata": {},
     "output_type": "execute_result"
    }
   ],
   "source": [
    "# redirect in foundation\n",
    "link = 'https://www.google.com/url?q=https%3A%2F%2Fsites.google.com%2Ftarc.edu.my%2Fcpus%2Fprogrammes%2Ffoundation-in-computing&sa=D&sntz=1&usg=AOvVaw1DrpoJVDcfsvA5AGh0Y4dB'\n",
    "response = requests.get(link, headers=headers)\n",
    "soup = BeautifulSoup(response.content, 'html.parser')\n",
    "print(soup.prettify())\n",
    "newlink = soup.find('body').getText()\n",
    "index = newlink.index('https')\n",
    "        \n",
    "newlink[index:]\n",
    "# link = ws.getCon(soup, 6)"
   ]
  },
  {
   "cell_type": "code",
   "execution_count": 22,
   "id": "9a70642a-dfc5-4dd9-9dda-62c6ed43ce66",
   "metadata": {},
   "outputs": [
    {
     "data": {
      "text/plain": [
       "[]"
      ]
     },
     "execution_count": 22,
     "metadata": {},
     "output_type": "execute_result"
    }
   ],
   "source": [
    "link"
   ]
  },
  {
   "cell_type": "code",
   "execution_count": 6,
   "id": "2d6f1c4b-464a-4d04-b46b-63af564d410d",
   "metadata": {},
   "outputs": [],
   "source": [
    "phd = link[:3]\n",
    "master = link[3:]"
   ]
  },
  {
   "cell_type": "code",
   "execution_count": 23,
   "id": "2c20dd01-2ada-438e-899a-683d7a7ca258",
   "metadata": {},
   "outputs": [],
   "source": [
    "master = ['https://www.google.com/url?q=https%3A%2F%2Fcpsr.tarc.edu.my%2Fprogrammes%2Fby-research%2Ffaculty-of-computing-and-information-technology%2Fmaster-of-computer-science&sa=D&sntz=1&usg=AOvVaw3H9v2Os8NCwX4f3CwX-m4-',\n",
    " 'https://www.google.com/url?q=https%3A%2F%2Fcpsr.tarc.edu.my%2Fprogrammes%2Fby-research%2Ffaculty-of-computing-and-information-technology%2Fmaster-of-information-technology&sa=D&sntz=1&usg=AOvVaw23V01OPG5C2JchWBnl0MQc',\n",
    " 'https://www.google.com/url?q=https%3A%2F%2Fcpsr.tarc.edu.my%2Fprogrammes%2Fby-research%2Ffaculty-of-computing-and-information-technology%2Fmaster-of-science-in-mathematical-sciences&sa=D&sntz=1&usg=AOvVaw0bTRN777p72tdpk5u-tjWl']"
   ]
  },
  {
   "cell_type": "code",
   "execution_count": 24,
   "id": "283e6842-ea02-43f0-ac9c-5551bcbdab4b",
   "metadata": {},
   "outputs": [],
   "source": [
    "response = requests.get(master[0], headers=headers)\n",
    "\n",
    "soup = BeautifulSoup(response.content, 'html.parser')"
   ]
  },
  {
   "cell_type": "code",
   "execution_count": 25,
   "id": "84aa48bf-7143-4eca-bc9e-96c7d02dbd84",
   "metadata": {},
   "outputs": [
    {
     "data": {
      "text/plain": [
       "200"
      ]
     },
     "execution_count": 25,
     "metadata": {},
     "output_type": "execute_result"
    }
   ],
   "source": [
    "response.status_code"
   ]
  },
  {
   "cell_type": "code",
   "execution_count": 26,
   "id": "525c9470-ccad-4916-95eb-ec078b98c49c",
   "metadata": {},
   "outputs": [
    {
     "name": "stdout",
     "output_type": "stream",
     "text": [
      "<html>\n",
      " <head>\n",
      "  <meta content=\"text/html;charset=utf-8\" http-equiv=\"content-type\"/>\n",
      "  <title>\n",
      "   Redirecting\n",
      "  </title>\n",
      "  <meta content=\"1; url=https://cpsr.tarc.edu.my/programmes/by-research/faculty-of-computing-and-information-technology/master-of-computer-science\" http-equiv=\"refresh\"/>\n",
      " </head>\n",
      " <body onload=\"location.replace('https://cpsr.tarc.edu.my/programmes/by-research/faculty-of-computing-and-information-technology/master-of-computer-science'+document.location.hash)\">\n",
      "  Redirecting you to https://cpsr.tarc.edu.my/programmes/by-research/faculty-of-computing-and-information-technology/master-of-computer-science\n",
      " </body>\n",
      "</html>\n",
      "\n"
     ]
    }
   ],
   "source": [
    "print(soup.prettify())"
   ]
  },
  {
   "cell_type": "code",
   "execution_count": 30,
   "id": "2f740a08-3e68-4d2d-b442-dcb990e67a6e",
   "metadata": {},
   "outputs": [
    {
     "name": "stdout",
     "output_type": "stream",
     "text": [
      "https://cpsr.tarc.edu.my/programmes/by-research/faculty-of-computing-and-information-technology/master-of-computer-science\n"
     ]
    }
   ],
   "source": [
    "# redirect for master \n",
    "print(checkRedirectLink(master[0], \"MASTER\"))"
   ]
  },
  {
   "cell_type": "code",
   "execution_count": 22,
   "id": "efc56d86-5c72-4881-8e74-76b991653db5",
   "metadata": {},
   "outputs": [
    {
     "name": "stdout",
     "output_type": "stream",
     "text": [
      "[]\n"
     ]
    }
   ],
   "source": [
    "def getHeader(soup) : \n",
    "    header = soup.find_all('div', class_='PPhIP rviiZ')\n",
    "    print(header)\n",
    "    if header is not None : \n",
    "        return header\n",
    "\n",
    "head = getHeader(soup)"
   ]
  },
  {
   "cell_type": "code",
   "execution_count": 18,
   "id": "88d75b9b-f68a-430c-b255-cdf06368cbad",
   "metadata": {},
   "outputs": [],
   "source": [
    "head"
   ]
  },
  {
   "cell_type": "code",
   "execution_count": 1,
   "id": "8a5d941b-757b-4c63-9e8a-a8d737151237",
   "metadata": {},
   "outputs": [],
   "source": [
    "import sys\n",
    "\n",
    "# change module search path to parent directory \n",
    "sys.path.append('./../')"
   ]
  },
  {
   "cell_type": "code",
   "execution_count": 5,
   "id": "d83b4364-459c-4319-9d8f-11aa89044f8a",
   "metadata": {
    "scrolled": true
   },
   "outputs": [
    {
     "name": "stdout",
     "output_type": "stream",
     "text": [
      "<html>\n",
      " <head>\n",
      "  <meta content=\"text/html;charset=utf-8\" http-equiv=\"content-type\"/>\n",
      "  <title>\n",
      "   Redirecting\n",
      "  </title>\n",
      "  <meta content=\"1; url=https://sites.google.com/tarc.edu.my/cpus/programmes/foundation-in-computing\" http-equiv=\"refresh\"/>\n",
      " </head>\n",
      " <body onload=\"location.replace('https://sites.google.com/tarc.edu.my/cpus/programmes/foundation-in-computing'+document.location.hash)\">\n",
      "  Redirecting you to https://sites.google.com/tarc.edu.my/cpus/programmes/foundation-in-computing\n",
      " </body>\n",
      "</html>\n",
      "\n",
      "<html>\n",
      " <head>\n",
      "  <meta content=\"text/html;charset=utf-8\" http-equiv=\"content-type\"/>\n",
      "  <title>\n",
      "   Redirecting\n",
      "  </title>\n",
      "  <meta content=\"1; url=https://cpsr.tarc.edu.my/programmes/by-research/faculty-of-computing-and-information-technology/doctor-of-philosophy-computer-science\" http-equiv=\"refresh\"/>\n",
      " </head>\n",
      " <body onload=\"location.replace('https://cpsr.tarc.edu.my/programmes/by-research/faculty-of-computing-and-information-technology/doctor-of-philosophy-computer-science'+document.location.hash)\">\n",
      "  Redirecting you to https://cpsr.tarc.edu.my/programmes/by-research/faculty-of-computing-and-information-technology/doctor-of-philosophy-computer-science\n",
      " </body>\n",
      "</html>\n",
      "\n",
      "<html>\n",
      " <head>\n",
      "  <meta content=\"text/html;charset=utf-8\" http-equiv=\"content-type\"/>\n",
      "  <title>\n",
      "   Redirecting\n",
      "  </title>\n",
      "  <meta content=\"1; url=https://cpsr.tarc.edu.my/programmes/by-research/faculty-of-computing-and-information-technology/doctor-of-philosophy-information-technology\" http-equiv=\"refresh\"/>\n",
      " </head>\n",
      " <body onload=\"location.replace('https://cpsr.tarc.edu.my/programmes/by-research/faculty-of-computing-and-information-technology/doctor-of-philosophy-information-technology'+document.location.hash)\">\n",
      "  Redirecting you to https://cpsr.tarc.edu.my/programmes/by-research/faculty-of-computing-and-information-technology/doctor-of-philosophy-information-technology\n",
      " </body>\n",
      "</html>\n",
      "\n",
      "<html>\n",
      " <head>\n",
      "  <meta content=\"text/html;charset=utf-8\" http-equiv=\"content-type\"/>\n",
      "  <title>\n",
      "   Redirecting\n",
      "  </title>\n",
      "  <meta content=\"1; url=https://cpsr.tarc.edu.my/programmes/by-research/faculty-of-computing-and-information-technology/doctor-of-philosophy-mathematical-sciences\" http-equiv=\"refresh\"/>\n",
      " </head>\n",
      " <body onload=\"location.replace('https://cpsr.tarc.edu.my/programmes/by-research/faculty-of-computing-and-information-technology/doctor-of-philosophy-mathematical-sciences'+document.location.hash)\">\n",
      "  Redirecting you to https://cpsr.tarc.edu.my/programmes/by-research/faculty-of-computing-and-information-technology/doctor-of-philosophy-mathematical-sciences\n",
      " </body>\n",
      "</html>\n",
      "\n",
      "<html>\n",
      " <head>\n",
      "  <meta content=\"text/html;charset=utf-8\" http-equiv=\"content-type\"/>\n",
      "  <title>\n",
      "   Redirecting\n",
      "  </title>\n",
      "  <meta content=\"1; url=https://cpsr.tarc.edu.my/programmes/by-research/faculty-of-computing-and-information-technology/master-of-computer-science\" http-equiv=\"refresh\"/>\n",
      " </head>\n",
      " <body onload=\"location.replace('https://cpsr.tarc.edu.my/programmes/by-research/faculty-of-computing-and-information-technology/master-of-computer-science'+document.location.hash)\">\n",
      "  Redirecting you to https://cpsr.tarc.edu.my/programmes/by-research/faculty-of-computing-and-information-technology/master-of-computer-science\n",
      " </body>\n",
      "</html>\n",
      "\n",
      "<html>\n",
      " <head>\n",
      "  <meta content=\"text/html;charset=utf-8\" http-equiv=\"content-type\"/>\n",
      "  <title>\n",
      "   Redirecting\n",
      "  </title>\n",
      "  <meta content=\"1; url=https://cpsr.tarc.edu.my/programmes/by-research/faculty-of-computing-and-information-technology/master-of-information-technology\" http-equiv=\"refresh\"/>\n",
      " </head>\n",
      " <body onload=\"location.replace('https://cpsr.tarc.edu.my/programmes/by-research/faculty-of-computing-and-information-technology/master-of-information-technology'+document.location.hash)\">\n",
      "  Redirecting you to https://cpsr.tarc.edu.my/programmes/by-research/faculty-of-computing-and-information-technology/master-of-information-technology\n",
      " </body>\n",
      "</html>\n",
      "\n",
      "<html>\n",
      " <head>\n",
      "  <meta content=\"text/html;charset=utf-8\" http-equiv=\"content-type\"/>\n",
      "  <title>\n",
      "   Redirecting\n",
      "  </title>\n",
      "  <meta content=\"1; url=https://cpsr.tarc.edu.my/programmes/by-research/faculty-of-computing-and-information-technology/master-of-science-in-mathematical-sciences\" http-equiv=\"refresh\"/>\n",
      " </head>\n",
      " <body onload=\"location.replace('https://cpsr.tarc.edu.my/programmes/by-research/faculty-of-computing-and-information-technology/master-of-science-in-mathematical-sciences'+document.location.hash)\">\n",
      "  Redirecting you to https://cpsr.tarc.edu.my/programmes/by-research/faculty-of-computing-and-information-technology/master-of-science-in-mathematical-sciences\n",
      " </body>\n",
      "</html>\n",
      "\n",
      "<span class=\"puwcIf C9DxTc\" style=\"vertical-align: baseline;\">Master of Computer Science</span>\n",
      "<span class=\"puwcIf C9DxTc\" style=\"vertical-align: baseline;\">Master of Information Technology</span>\n",
      "<span class=\"puwcIf C9DxTc\" style=\"vertical-align: baseline;\">Master of Science in Mathematical Sciences</span>\n",
      "<span class=\"puwcIf C9DxTc\" style=\"vertical-align: baseline;\">Doctor of Philosophy in Computer Science</span>\n",
      "<span class=\"puwcIf C9DxTc\" style=\"vertical-align: baseline;\">Doctor of Philosophy (Information Technology)</span>\n",
      "<span class=\"puwcIf C9DxTc\" style=\"vertical-align: baseline;\">Doctor of Philosophy (Mathematical Sciences)</span>\n"
     ]
    }
   ],
   "source": [
    "# test scrapall\n",
    "from web_scraping import WebScrap\n",
    "import requests\n",
    "from bs4 import BeautifulSoup\n",
    "\n",
    "scrap = WebScrap(filePath='../JsonLibrary/repo.json')\n",
    "\n",
    "scrap.scrapAll()"
   ]
  },
  {
   "cell_type": "code",
   "execution_count": 6,
   "id": "7b3b59f5-22f9-494b-af64-92d68f6a61cc",
   "metadata": {},
   "outputs": [
    {
     "data": {
      "text/plain": [
       "{'FOUNDATION': <qualification.QualificationLevel at 0x247ed300590>,\n",
       " 'DIPLOMA': <qualification.QualificationLevel at 0x247ed3c7620>,\n",
       " 'BACHELOR DEGREE': <qualification.QualificationLevel at 0x247ed406e70>,\n",
       " 'MASTER': <qualification.QualificationLevel at 0x247ed9c5fa0>,\n",
       " 'PHD': <qualification.QualificationLevel at 0x247edb02e10>}"
      ]
     },
     "execution_count": 6,
     "metadata": {},
     "output_type": "execute_result"
    }
   ],
   "source": [
    "scrap.qualificationList"
   ]
  },
  {
   "cell_type": "code",
   "execution_count": 7,
   "id": "75e3f138-8e74-4984-804a-0891c55a1865",
   "metadata": {},
   "outputs": [
    {
     "name": "stdout",
     "output_type": "stream",
     "text": [
      "https://sites.google.com/tarc.edu.my/cpus/programmes/foundation-in-computing, FOUNDATION IN COMPUTING, CS\n"
     ]
    }
   ],
   "source": [
    "for c in scrap.qualificationList[\"FOUNDATION\"].course :\n",
    "    print(f\"{c.link}, {c.name}, {c.label}\")"
   ]
  },
  {
   "cell_type": "code",
   "execution_count": 8,
   "id": "fdbb5f17-58aa-415c-bbb3-78c791a9a52c",
   "metadata": {},
   "outputs": [
    {
     "name": "stdout",
     "output_type": "stream",
     "text": [
      "https://focs.tarc.edu.my/programmes/diploma/diploma-in-computer-science-dcs, DIPLOMA IN COMPUTER SCIENCE (DCS), CS\n",
      "https://focs.tarc.edu.my/programmes/diploma/diploma-in-information-systems-dis, DIPLOMA IN INFORMATION SYSTEMS (DIS), IT\n",
      "https://focs.tarc.edu.my/programmes/diploma/diploma-in-information-technology-dft, DIPLOMA IN INFORMATION TECHNOLOGY (DFT), IT\n",
      "https://focs.tarc.edu.my/programmes/diploma/diploma-in-software-engineering-dsf, DIPLOMA IN SOFTWARE ENGINEERING (DSF), SE\n"
     ]
    }
   ],
   "source": [
    "for c in scrap.qualificationList[\"DIPLOMA\"].course :\n",
    "    print(f\"{c.link}, {c.name}, {c.label}\")"
   ]
  },
  {
   "cell_type": "code",
   "execution_count": 9,
   "id": "c0b7cf5d-1770-4cf9-a99f-6fa7698b48d2",
   "metadata": {},
   "outputs": [
    {
     "name": "stdout",
     "output_type": "stream",
     "text": [
      "https://focs.tarc.edu.my/programmes/bachelor-degree/bachelor-of-science-honours-in-management-mathematics-with-computi-rmm, BACHELOR OF SCIENCE (HONOURS) IN  MANAGEMENT MATHEMATICS WITH COMPUTI (RMM), M\n",
      "https://focs.tarc.edu.my/programmes/bachelor-degree/bachelor-of-computer-science-honours-in-interactive-software-techno-rst, BACHELOR OF COMPUTER SCIENCE (HONOURS) IN INTERACTIVE SOFTWARE TECHNO (RST), CS\n",
      "https://focs.tarc.edu.my/programmes/bachelor-degree/bachelor-of-computer-science-honours-in-data-science-rds, BACHELOR OF COMPUTER SCIENCE (HONOURS) IN  DATA SCIENCE (RDS), CS\n",
      "https://focs.tarc.edu.my/programmes/bachelor-degree/bachelor-of-information-systems-honours-in-enterprise-information-s-rei, BACHELOR OF INFORMATION SYSTEMS (HONOURS) IN ENTERPRISE INFORMATION S (REI), IT\n",
      "https://focs.tarc.edu.my/programmes/bachelor-degree/bachelor-of-information-technology-honours-in-information-security-ris, BACHELOR OF INFORMATION TECHNOLOGY (HONOURS) IN INFORMATION SECURITY (RIS), IT\n",
      "https://focs.tarc.edu.my/programmes/bachelor-degree/bachelor-of-information-technology-honours-in-software-systems-deve-rsd, BACHELOR OF INFORMATION TECHNOLOGY (HONOURS) IN SOFTWARE SYSTEMS DEVE (RSD), IT\n",
      "https://focs.tarc.edu.my/programmes/bachelor-degree/bachelor-of-software-engineering-honours-rsw, BACHELOR OF SOFTWARE ENGINEERING (HONOURS) (RSW), SE\n"
     ]
    }
   ],
   "source": [
    "for c in scrap.qualificationList[\"BACHELOR DEGREE\"].course :\n",
    "    print(f\"{c.link}, {c.name}, {c.label}\")"
   ]
  },
  {
   "cell_type": "code",
   "execution_count": 10,
   "id": "1f2cd613-ccda-45eb-ad85-3c52009e8687",
   "metadata": {},
   "outputs": [
    {
     "name": "stdout",
     "output_type": "stream",
     "text": [
      "https://cpsr.tarc.edu.my/programmes/by-research/faculty-of-computing-and-information-technology/master-of-computer-science, MASTER OF COMPUTER SCIENCE, CS\n",
      "https://cpsr.tarc.edu.my/programmes/by-research/faculty-of-computing-and-information-technology/master-of-information-technology, MASTER OF INFORMATION TECHNOLOGY, IT\n",
      "https://cpsr.tarc.edu.my/programmes/by-research/faculty-of-computing-and-information-technology/master-of-science-in-mathematical-sciences, MASTER OF SCIENCE IN MATHEMATICAL SCIENCES, M\n"
     ]
    }
   ],
   "source": [
    "for c in scrap.qualificationList[\"MASTER\"].course :\n",
    "    print(f\"{c.link}, {c.name}, {c.label}\")"
   ]
  },
  {
   "cell_type": "code",
   "execution_count": 12,
   "id": "5bbcfb1e-48a6-4aab-bdb9-20bed8fdd35a",
   "metadata": {},
   "outputs": [
    {
     "name": "stdout",
     "output_type": "stream",
     "text": [
      "https://cpsr.tarc.edu.my/programmes/by-research/faculty-of-computing-and-information-technology/doctor-of-philosophy-computer-science, DOCTOR OF PHILOSOPHY IN COMPUTER SCIENCE, CS\n",
      "https://cpsr.tarc.edu.my/programmes/by-research/faculty-of-computing-and-information-technology/doctor-of-philosophy-information-technology, DOCTOR OF PHILOSOPHY (INFORMATION TECHNOLOGY), IT\n",
      "https://cpsr.tarc.edu.my/programmes/by-research/faculty-of-computing-and-information-technology/doctor-of-philosophy-mathematical-sciences, DOCTOR OF PHILOSOPHY (MATHEMATICAL SCIENCES), M\n"
     ]
    }
   ],
   "source": [
    "for c in scrap.qualificationList[\"PHD\"].course :\n",
    "    print(f\"{c.link}, {c.name}, {c.label}\")"
   ]
  },
  {
   "cell_type": "code",
   "execution_count": 2,
   "id": "020a1511-0512-4321-813c-9c89f7784148",
   "metadata": {},
   "outputs": [],
   "source": [
    "phd = ['https://cpsr.tarc.edu.my/programmes/by-research/faculty-of-computing-and-information-technology/doctor-of-philosophy-computer-science', 'https://cpsr.tarc.edu.my/programmes/by-research/faculty-of-computing-and-information-technology/doctor-of-philosophy-information-technology', 'https://cpsr.tarc.edu.my/programmes/by-research/faculty-of-computing-and-information-technology/doctor-of-philosophy-mathematical-sciences']\n",
    "# phd = ['https://cpsr.tarc.edu.my/programmes/by-research/faculty-of-computing-and-information-technology/doctor-of-philosophy-computer-science']\n",
    "master = ['https://cpsr.tarc.edu.my/programmes/by-research/faculty-of-computing-and-information-technology/master-of-computer-science', 'https://cpsr.tarc.edu.my/programmes/by-research/faculty-of-computing-and-information-technology/master-of-information-technology', 'https://cpsr.tarc.edu.my/programmes/by-research/faculty-of-computing-and-information-technology/master-of-science-in-mathematical-sciences']"
   ]
  },
  {
   "cell_type": "code",
   "execution_count": 4,
   "id": "55ae2599-f8be-47e8-ac3d-8432d4c1d7f1",
   "metadata": {},
   "outputs": [
    {
     "name": "stdout",
     "output_type": "stream",
     "text": [
      "https://cpsr.tarc.edu.my/programmes/by-research/faculty-of-computing-and-information-technology/doctor-of-philosophy-computer-science\n",
      "<span class=\"puwcIf C9DxTc\" style=\"vertical-align: baseline;\">Doctor of Philosophy in Computer Science</span>\n",
      "DOCTOR OF PHILOSOPHY IN COMPUTER SCIENCE\n",
      "https://cpsr.tarc.edu.my/programmes/by-research/faculty-of-computing-and-information-technology/doctor-of-philosophy-information-technology\n",
      "<span class=\"puwcIf C9DxTc\" style=\"vertical-align: baseline;\">Doctor of Philosophy (Information Technology)</span>\n",
      "DOCTOR OF PHILOSOPHY (INFORMATION TECHNOLOGY)\n",
      "https://cpsr.tarc.edu.my/programmes/by-research/faculty-of-computing-and-information-technology/doctor-of-philosophy-mathematical-sciences\n",
      "<span class=\"puwcIf C9DxTc\" style=\"vertical-align: baseline;\">Doctor of Philosophy (Mathematical Sciences)</span>\n",
      "DOCTOR OF PHILOSOPHY (MATHEMATICAL SCIENCES)\n"
     ]
    }
   ],
   "source": [
    "# scrap.getPostgraduateHeader(phd[0])\n",
    "from course import Course\n",
    "from web_scraping import WebScrap\n",
    "import requests\n",
    "from bs4 import BeautifulSoup\n",
    "\n",
    "scrap = WebScrap(filePath='../JsonLibrary/repo.json')\n",
    "\n",
    "clist = []\n",
    "for l in phd :\n",
    "    response = requests.get(l, headers=headers)\n",
    "    print(l)\n",
    "\n",
    "    soup = BeautifulSoup(response.content, 'html.parser')\n",
    "    # print(soup.prettify())\n",
    "    \n",
    "    # name = soup.find('span', class_='puwcIf C9DxTc')\n",
    "    name = scrap.getPostgraduateHeader(soup=soup)\n",
    "    print(name)\n",
    "\n",
    "    clist.append(Course(name=name, link=l))"
   ]
  },
  {
   "cell_type": "code",
   "execution_count": 14,
   "id": "2c72861c-e630-41b4-bbc5-41f20c48cfd9",
   "metadata": {},
   "outputs": [
    {
     "data": {
      "text/plain": [
       "'Doctor of Philosophy in Computer Science'"
      ]
     },
     "execution_count": 14,
     "metadata": {},
     "output_type": "execute_result"
    }
   ],
   "source": [
    "name.getText()"
   ]
  },
  {
   "cell_type": "code",
   "execution_count": null,
   "id": "ff6411b8-3c0d-4ef3-a104-e7f2edc7ca90",
   "metadata": {},
   "outputs": [],
   "source": [
    "clist"
   ]
  },
  {
   "cell_type": "code",
   "execution_count": 3,
   "id": "72fd4ffc-b631-4742-b656-d3824754e967",
   "metadata": {},
   "outputs": [],
   "source": [
    "# Headers to simulate a real browser\n",
    "headers = {\n",
    "    'User-Agent': 'Mozilla/5.0 (Windows NT 10.0; Win64; x64) AppleWebKit/537.36 (KHTML, like Gecko) Chrome/91.0.4472.124 Safari/537.36'\n",
    "}"
   ]
  },
  {
   "cell_type": "code",
   "execution_count": 4,
   "id": "f459655b-3784-40ae-9a4c-04a12687cb47",
   "metadata": {},
   "outputs": [
    {
     "ename": "NameError",
     "evalue": "name 'url' is not defined",
     "output_type": "error",
     "traceback": [
      "\u001b[1;31m---------------------------------------------------------------------------\u001b[0m",
      "\u001b[1;31mNameError\u001b[0m                                 Traceback (most recent call last)",
      "Cell \u001b[1;32mIn[4], line 1\u001b[0m\n\u001b[1;32m----> 1\u001b[0m response \u001b[38;5;241m=\u001b[39m requests\u001b[38;5;241m.\u001b[39mget(url, headers\u001b[38;5;241m=\u001b[39mheaders)\n\u001b[0;32m      2\u001b[0m \u001b[38;5;28mprint\u001b[39m(response\u001b[38;5;241m.\u001b[39mstatus_code)\n\u001b[0;32m      4\u001b[0m soup \u001b[38;5;241m=\u001b[39m BeautifulSoup(response\u001b[38;5;241m.\u001b[39mcontent, \u001b[38;5;124m'\u001b[39m\u001b[38;5;124mhtml.parser\u001b[39m\u001b[38;5;124m'\u001b[39m)\n",
      "\u001b[1;31mNameError\u001b[0m: name 'url' is not defined"
     ]
    }
   ],
   "source": [
    "url = \n",
    "\n",
    "response = requests.get(url, headers=headers)\n",
    "print(response.status_code)\n",
    "\n",
    "soup = BeautifulSoup(response.content, 'html.parser')\n",
    "print(soup.prettify())\n",
    "\n",
    "header = soup.find('div', class_='CjVfdc')\n",
    "\n",
    "header"
   ]
  }
 ],
 "metadata": {
  "kernelspec": {
   "display_name": "roadMap",
   "language": "python",
   "name": "roadmap"
  },
  "language_info": {
   "codemirror_mode": {
    "name": "ipython",
    "version": 3
   },
   "file_extension": ".py",
   "mimetype": "text/x-python",
   "name": "python",
   "nbconvert_exporter": "python",
   "pygments_lexer": "ipython3",
   "version": "3.12.5"
  }
 },
 "nbformat": 4,
 "nbformat_minor": 5
}
