{
 "cells": [
  {
   "cell_type": "code",
   "execution_count": 1,
   "id": "2803a3cf-5602-4229-8e93-3e9aecea1c2e",
   "metadata": {},
   "outputs": [],
   "source": [
    "import sys\n",
    "\n",
    "# change module search path to parent directory \n",
    "sys.path.append('./../')\n",
    "\n",
    "from json_access import JsonAccess"
   ]
  },
  {
   "cell_type": "code",
   "execution_count": 2,
   "id": "0ab63941-42e9-41d9-890d-177a96d408f2",
   "metadata": {},
   "outputs": [
    {
     "data": {
      "text/plain": [
       "['C:\\\\Users\\\\LENOVO\\\\OneDrive\\\\Documents\\\\GitHub\\\\SEM_Task2\\\\QualificationRoadMap\\\\Testing',\n",
       " 'C:\\\\Users\\\\LENOVO\\\\anaconda3\\\\envs\\\\roadMap\\\\python312.zip',\n",
       " 'C:\\\\Users\\\\LENOVO\\\\anaconda3\\\\envs\\\\roadMap\\\\DLLs',\n",
       " 'C:\\\\Users\\\\LENOVO\\\\anaconda3\\\\envs\\\\roadMap\\\\Lib',\n",
       " 'C:\\\\Users\\\\LENOVO\\\\anaconda3\\\\envs\\\\roadMap',\n",
       " '',\n",
       " 'C:\\\\Users\\\\LENOVO\\\\anaconda3\\\\envs\\\\roadMap\\\\Lib\\\\site-packages',\n",
       " 'C:\\\\Users\\\\LENOVO\\\\anaconda3\\\\envs\\\\roadMap\\\\Lib\\\\site-packages\\\\win32',\n",
       " 'C:\\\\Users\\\\LENOVO\\\\anaconda3\\\\envs\\\\roadMap\\\\Lib\\\\site-packages\\\\win32\\\\lib',\n",
       " 'C:\\\\Users\\\\LENOVO\\\\anaconda3\\\\envs\\\\roadMap\\\\Lib\\\\site-packages\\\\Pythonwin',\n",
       " 'C:\\\\Users\\\\LENOVO\\\\anaconda3\\\\envs\\\\roadMap\\\\Lib\\\\site-packages\\\\setuptools\\\\_vendor',\n",
       " './../']"
      ]
     },
     "execution_count": 2,
     "metadata": {},
     "output_type": "execute_result"
    }
   ],
   "source": [
    "# sys.path.append() modifies the module search path, will not change current working directory \n",
    "# current working directory = the path for this file to execute \n",
    "# check module search path  \n",
    "sys.path "
   ]
  },
  {
   "cell_type": "code",
   "execution_count": 3,
   "id": "3576d8b5-a2ca-4de6-94eb-f47a693d9aa6",
   "metadata": {},
   "outputs": [],
   "source": [
    "filePath = '../JsonLibrary/proxy.json'\n",
    "\n",
    "filePathWrong = 'fake'\n",
    "\n",
    "instance1 = JsonAccess(filePath)\n",
    "instance2 = JsonAccess(filePathWrong)"
   ]
  },
  {
   "cell_type": "code",
   "execution_count": 4,
   "id": "cffd681c-30e1-4109-a99f-2c170956ece3",
   "metadata": {},
   "outputs": [
    {
     "name": "stdout",
     "output_type": "stream",
     "text": [
      "correct file path > ../JsonLibrary/proxy.json\n",
      "wrong file path > None\n"
     ]
    }
   ],
   "source": [
    "print(f'correct file path > {instance1.getFilePath()}')\n",
    "\n",
    "print(f'wrong file path > {instance2.getFilePath()}')"
   ]
  },
  {
   "cell_type": "code",
   "execution_count": 5,
   "id": "45504ab4-afca-4743-b039-7857a036666a",
   "metadata": {},
   "outputs": [
    {
     "name": "stdout",
     "output_type": "stream",
     "text": [
      "{'ProxyMalaysia': [{'IP': '47.250.155.254', 'Port': '8443'}, {'IP': '47.250.51.110', 'Port': '9098'}, {'IP': '47.250.11.111', 'Port': '9098'}, {'IP': '47.250.177.202', 'Port': '8080'}, {'IP': '47.250.159.65', 'Port': '9098'}, {'IP': '47.250.11.111', 'Port': '8080'}, {'IP': '47.250.177.202', 'Port': '80'}, {'IP': '47.250.11.111', 'Port': '161'}, {'IP': '47.250.11.111', 'Port': '80'}, {'IP': '47.250.11.111', 'Port': '8081'}]}\n",
      "None\n"
     ]
    }
   ],
   "source": [
    "# get data \n",
    "data1 = instance1.readFile()\n",
    "\n",
    "data2 = instance2.readFile()\n",
    "\n",
    "print(data1)\n",
    "print(data2)"
   ]
  },
  {
   "cell_type": "code",
   "execution_count": 6,
   "id": "5d198c04-a418-4456-a39e-2587466e5a17",
   "metadata": {},
   "outputs": [
    {
     "data": {
      "text/plain": [
       "[{'IP': '47.250.155.254', 'Port': '8443'},\n",
       " {'IP': '47.250.51.110', 'Port': '9098'},\n",
       " {'IP': '47.250.11.111', 'Port': '9098'},\n",
       " {'IP': '47.250.177.202', 'Port': '8080'},\n",
       " {'IP': '47.250.159.65', 'Port': '9098'},\n",
       " {'IP': '47.250.11.111', 'Port': '8080'},\n",
       " {'IP': '47.250.177.202', 'Port': '80'},\n",
       " {'IP': '47.250.11.111', 'Port': '161'},\n",
       " {'IP': '47.250.11.111', 'Port': '80'},\n",
       " {'IP': '47.250.11.111', 'Port': '8081'}]"
      ]
     },
     "execution_count": 6,
     "metadata": {},
     "output_type": "execute_result"
    }
   ],
   "source": [
    "data1['Malaysia']"
   ]
  },
  {
   "cell_type": "code",
   "execution_count": 10,
   "id": "a578c847-b0d2-4967-afb0-c508a8e89239",
   "metadata": {},
   "outputs": [
    {
     "name": "stdout",
     "output_type": "stream",
     "text": [
      "file path is correct\n",
      "file path is not correct\n"
     ]
    }
   ],
   "source": [
    "# check __bool__ working \n",
    "iList = [instance1, instance2]\n",
    "\n",
    "for i in iList : \n",
    "    if i : \n",
    "        print(\"file path is correct\")\n",
    "    else : \n",
    "        print(\"file path is not correct\")"
   ]
  },
  {
   "cell_type": "code",
   "execution_count": null,
   "id": "848e1f34-409e-4fd1-b054-cd1c75ae246f",
   "metadata": {},
   "outputs": [],
   "source": []
  }
 ],
 "metadata": {
  "kernelspec": {
   "display_name": "roadMap",
   "language": "python",
   "name": "roadmap"
  },
  "language_info": {
   "codemirror_mode": {
    "name": "ipython",
    "version": 3
   },
   "file_extension": ".py",
   "mimetype": "text/x-python",
   "name": "python",
   "nbconvert_exporter": "python",
   "pygments_lexer": "ipython3",
   "version": "3.12.5"
  }
 },
 "nbformat": 4,
 "nbformat_minor": 5
}
