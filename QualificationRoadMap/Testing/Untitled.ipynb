{
 "cells": [
  {
   "cell_type": "code",
   "execution_count": null,
   "id": "0b897f3c-0e01-4bcf-b95f-77b978f5b231",
   "metadata": {},
   "outputs": [],
   "source": [
    "%pip install anytree"
   ]
  }
 ],
 "metadata": {
  "kernelspec": {
   "display_name": "roadMap",
   "language": "python",
   "name": "roadmap"
  },
  "language_info": {
   "codemirror_mode": {
    "name": "ipython",
    "version": 3
   },
   "file_extension": ".py",
   "mimetype": "text/x-python",
   "name": "python",
   "nbconvert_exporter": "python",
   "pygments_lexer": "ipython3",
   "version": "3.12.5"
  }
 },
 "nbformat": 4,
 "nbformat_minor": 5
}
